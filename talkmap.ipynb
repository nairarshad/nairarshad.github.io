{
 "cells": [
  {
   "cell_type": "markdown",
   "metadata": {},
   "source": [
    "# Leaflet cluster map of talk locations\n",
    "\n",
    "Run this from the _talks/ directory, which contains .md files of all your talks. This scrapes the location YAML field from each .md file, geolocates it with geopy/Nominatim, and uses the getorg library to output data, HTML, and Javascript for a standalone cluster map."
   ]
  },
  {
   "cell_type": "code",
   "execution_count": 1,
   "metadata": {},
   "outputs": [
    {
     "name": "stdout",
     "output_type": "stream",
     "text": [
      "Requirement already satisfied: getorg in c:\\users\\aanair\\anaconda3\\lib\\site-packages (0.3.1)\n",
      "Requirement already satisfied: geopy in c:\\users\\aanair\\anaconda3\\lib\\site-packages (from getorg) (2.3.0)\n",
      "Requirement already satisfied: pygithub in c:\\users\\aanair\\anaconda3\\lib\\site-packages (from getorg) (1.57)\n",
      "Requirement already satisfied: retrying in c:\\users\\aanair\\anaconda3\\lib\\site-packages (from getorg) (1.3.4)\n",
      "Requirement already satisfied: geographiclib<3,>=1.52 in c:\\users\\aanair\\anaconda3\\lib\\site-packages (from geopy->getorg) (2.0)\n",
      "Requirement already satisfied: deprecated in c:\\users\\aanair\\anaconda3\\lib\\site-packages (from pygithub->getorg) (1.2.13)\n",
      "Requirement already satisfied: pyjwt>=2.4.0 in c:\\users\\aanair\\anaconda3\\lib\\site-packages (from pygithub->getorg) (2.4.0)\n",
      "Requirement already satisfied: pynacl>=1.4.0 in c:\\users\\aanair\\anaconda3\\lib\\site-packages (from pygithub->getorg) (1.5.0)\n",
      "Requirement already satisfied: requests>=2.14.0 in c:\\users\\aanair\\anaconda3\\lib\\site-packages (from pygithub->getorg) (2.31.0)\n",
      "Requirement already satisfied: six>=1.7.0 in c:\\users\\aanair\\anaconda3\\lib\\site-packages (from retrying->getorg) (1.16.0)\n",
      "Requirement already satisfied: cffi>=1.4.1 in c:\\users\\aanair\\anaconda3\\lib\\site-packages (from pynacl>=1.4.0->pygithub->getorg) (1.16.0)\n",
      "Requirement already satisfied: charset-normalizer<4,>=2 in c:\\users\\aanair\\anaconda3\\lib\\site-packages (from requests>=2.14.0->pygithub->getorg) (2.0.4)\n",
      "Requirement already satisfied: idna<4,>=2.5 in c:\\users\\aanair\\anaconda3\\lib\\site-packages (from requests>=2.14.0->pygithub->getorg) (3.4)\n",
      "Requirement already satisfied: urllib3<3,>=1.21.1 in c:\\users\\aanair\\anaconda3\\lib\\site-packages (from requests>=2.14.0->pygithub->getorg) (1.26.18)\n",
      "Requirement already satisfied: certifi>=2017.4.17 in c:\\users\\aanair\\anaconda3\\lib\\site-packages (from requests>=2.14.0->pygithub->getorg) (2023.7.22)\n",
      "Requirement already satisfied: wrapt<2,>=1.10 in c:\\users\\aanair\\anaconda3\\lib\\site-packages (from deprecated->pygithub->getorg) (1.14.1)\n",
      "Requirement already satisfied: pycparser in c:\\users\\aanair\\anaconda3\\lib\\site-packages (from cffi>=1.4.1->pynacl>=1.4.0->pygithub->getorg) (2.21)\n"
     ]
    },
    {
     "name": "stderr",
     "output_type": "stream",
     "text": [
      "WARNING: There was an error checking the latest version of pip.\n"
     ]
    },
    {
     "name": "stdout",
     "output_type": "stream",
     "text": [
      "IPywidgets and ipyleaflet support enabled.\n"
     ]
    }
   ],
   "source": [
    "!pip install getorg --upgrade\n",
    "import glob\n",
    "import getorg\n",
    "from geopy import Nominatim"
   ]
  },
  {
   "cell_type": "code",
   "execution_count": 2,
   "metadata": {},
   "outputs": [],
   "source": [
    "g = glob.glob(\"_talks/*.md\")"
   ]
  },
  {
   "cell_type": "code",
   "execution_count": 3,
   "metadata": {},
   "outputs": [],
   "source": [
    "geocoder = Nominatim(user_agent=\"mappertalk\")\n",
    "location_dict = {}\n",
    "location = \"\"\n",
    "permalink = \"\"\n",
    "title = \"\""
   ]
  },
  {
   "cell_type": "code",
   "execution_count": 4,
   "metadata": {},
   "outputs": [
    {
     "name": "stdout",
     "output_type": "stream",
     "text": [
      " Harvard University, Boston, MA,  \n",
      " Harvard Business School, North Harvard Street, Barry's Corner, Allston, Boston, Suffolk County, Massachusetts, 02163, United States\n",
      " Raleigh, NC,  \n",
      " Raleigh, Wake County, North Carolina, United States\n",
      " Washington, DC,  \n",
      " Washington, District of Columbia, United States\n",
      " Albany, NY,  \n",
      " City of Albany, Albany County, New York, United States\n",
      " Harvard University, Boston, MA,  \n",
      " Harvard Business School, North Harvard Street, Barry's Corner, Allston, Boston, Suffolk County, Massachusetts, 02163, United States\n",
      " Portland, OR,  \n",
      " Portland, Multnomah County, Oregon, United States\n",
      " Portland, OR,  \n",
      " Portland, Multnomah County, Oregon, United States\n",
      " Boston, MA,  \n",
      " Boston, Suffolk County, Massachusetts, United States\n",
      " Albany, NY,  \n",
      " City of Albany, Albany County, New York, United States\n",
      " Albany, NY,  \n",
      " City of Albany, Albany County, New York, United States\n",
      " Albany, NY,  \n",
      " City of Albany, Albany County, New York, United States\n",
      " Albany, NY,  \n",
      " City of Albany, Albany County, New York, United States\n",
      " Albany, NY,  \n",
      " City of Albany, Albany County, New York, United States\n",
      " Albany, NY,  \n",
      " City of Albany, Albany County, New York, United States\n",
      " Washington University, St. Louis, MO,  \n",
      " None\n",
      " Washington University, St. Louis, MO,  \n",
      " None\n",
      " Washington University, St. Louis, MO,  \n",
      " None\n",
      " Washington University, St. Louis, MO,  \n",
      " None\n",
      " Denver, CO,  \n",
      " Denver, Colorado, United States\n",
      " Denver, CO,  \n",
      " Denver, Colorado, United States\n",
      " and the modifications by weather and greenness\"\n",
      "collection: talks\n",
      "permalink: /talks/2023-06-27-Systematically-assessing-associations-and-disparities-between-ultra-fine-particles-and-health-outcomes-and-the-modifications-by-weather-and-greenness\n",
      "date: 2023-06-27\n",
      "venue: 'Oral presentation at the NYSDEC BAQAR/NYSERDA Seminar Series, Albany, NY,  \n",
      " None\n",
      "  Fangqun Yu,  Arshad Nair,  Gan Luo,  Shao Lin, &quot;The long-term effect of ultrafine particles on mortality and its sociodemographic disparities.&quot; Paper presented (Qi) at the American Public Health Association (APHA) 2023 Annual Meeting and Expo, 2023.'\n",
      "---\n",
      "Use [Google Scholar](https://scholar.google.com/scholar?q=The+long+term+effect+of+ultrafine+particles+on+mortality+and+its+sociodemographic+disparities){:target=\"_blank\"} for full citatio \n",
      " None\n",
      " Atlanta, GA,  \n",
      " Atlanta, Fulton County, Georgia, United States\n",
      " Albany, NY,  \n",
      " City of Albany, Albany County, New York, United States\n",
      " Harvard University, St. Louis, MO,  \n",
      " Harvard Avenue, University Heights, University City, Saint Louis County, Missouri, 63130, United States\n",
      " National Harbor, MD,  \n",
      " National Harbor, Prince George's County, Maryland, 20745, United States\n"
     ]
    }
   ],
   "source": [
    "\n",
    "for file in g:\n",
    "    with open(file, 'r') as f:\n",
    "        lines = f.read()\n",
    "        if lines.find('venue: ') > 1:\n",
    "            if lines.find('Virtual') < 1:\n",
    "                loc_start = lines.find(',') + 1\n",
    "                lines_trim = lines[loc_start:]\n",
    "                loc_end = lines_trim.find('USA')\n",
    "                location = lines_trim[:loc_end]\n",
    "                            \n",
    "           \n",
    "        location_dict[location] = geocoder.geocode(location)\n",
    "        print(location, \"\\n\", location_dict[location])\n"
   ]
  },
  {
   "cell_type": "code",
   "execution_count": 5,
   "metadata": {},
   "outputs": [
    {
     "data": {
      "text/plain": [
       "'Written map to ./talkmap/'"
      ]
     },
     "execution_count": 5,
     "metadata": {},
     "output_type": "execute_result"
    }
   ],
   "source": [
    "m = getorg.orgmap.create_map_obj()\n",
    "getorg.orgmap.output_html_cluster_map(location_dict, folder_name=\"./talkmap\", hashed_usernames=False)"
   ]
  },
  {
   "cell_type": "code",
   "execution_count": 6,
   "metadata": {},
   "outputs": [
    {
     "data": {
      "application/vnd.jupyter.widget-view+json": {
       "model_id": "4c2d05c06d6a4e6fa20ef4f77597869d",
       "version_major": 2,
       "version_minor": 0
      },
      "text/plain": [
       "Map(center=[30, 5], controls=(ZoomControl(options=['position', 'zoom_in_text', 'zoom_in_title', 'zoom_out_text…"
      ]
     },
     "execution_count": 6,
     "metadata": {},
     "output_type": "execute_result"
    }
   ],
   "source": [
    "m"
   ]
  },
  {
   "cell_type": "code",
   "execution_count": null,
   "metadata": {},
   "outputs": [],
   "source": []
  }
 ],
 "metadata": {
  "anaconda-cloud": {},
  "kernelspec": {
   "display_name": "Python 3 (ipykernel)",
   "language": "python",
   "name": "python3"
  },
  "language_info": {
   "codemirror_mode": {
    "name": "ipython",
    "version": 3
   },
   "file_extension": ".py",
   "mimetype": "text/x-python",
   "name": "python",
   "nbconvert_exporter": "python",
   "pygments_lexer": "ipython3",
   "version": "3.9.18"
  }
 },
 "nbformat": 4,
 "nbformat_minor": 1
}
