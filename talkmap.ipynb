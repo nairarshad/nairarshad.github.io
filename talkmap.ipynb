{
 "cells": [
  {
   "cell_type": "markdown",
   "metadata": {},
   "source": [
    "# Leaflet cluster map of talk locations\n",
    "\n",
    "Run this from the _talks/ directory, which contains .md files of all your talks. This scrapes the location YAML field from each .md file, geolocates it with geopy/Nominatim, and uses the getorg library to output data, HTML, and Javascript for a standalone cluster map."
   ]
  },
  {
   "cell_type": "code",
   "execution_count": 24,
   "metadata": {},
   "outputs": [
    {
     "name": "stdout",
     "output_type": "stream",
     "text": [
      "Requirement already satisfied: getorg in c:\\users\\aanair\\anaconda3\\lib\\site-packages (0.3.1)\n",
      "Requirement already satisfied: retrying in c:\\users\\aanair\\anaconda3\\lib\\site-packages (from getorg) (1.3.4)\n",
      "Requirement already satisfied: pygithub in c:\\users\\aanair\\anaconda3\\lib\\site-packages (from getorg) (1.57)\n",
      "Requirement already satisfied: geopy in c:\\users\\aanair\\anaconda3\\lib\\site-packages (from getorg) (2.3.0)\n",
      "Requirement already satisfied: geographiclib<3,>=1.52 in c:\\users\\aanair\\anaconda3\\lib\\site-packages (from geopy->getorg) (2.0)\n",
      "Requirement already satisfied: pyjwt>=2.4.0 in c:\\users\\aanair\\anaconda3\\lib\\site-packages (from pygithub->getorg) (2.4.0)\n",
      "Requirement already satisfied: deprecated in c:\\users\\aanair\\anaconda3\\lib\\site-packages (from pygithub->getorg) (1.2.13)\n",
      "Requirement already satisfied: pynacl>=1.4.0 in c:\\users\\aanair\\anaconda3\\lib\\site-packages (from pygithub->getorg) (1.5.0)\n",
      "Requirement already satisfied: requests>=2.14.0 in c:\\users\\aanair\\anaconda3\\lib\\site-packages (from pygithub->getorg) (2.28.1)\n",
      "Requirement already satisfied: six>=1.7.0 in c:\\users\\aanair\\anaconda3\\lib\\site-packages (from retrying->getorg) (1.16.0)\n",
      "Requirement already satisfied: cffi>=1.4.1 in c:\\users\\aanair\\anaconda3\\lib\\site-packages (from pynacl>=1.4.0->pygithub->getorg) (1.15.1)\n",
      "Requirement already satisfied: urllib3<1.27,>=1.21.1 in c:\\users\\aanair\\anaconda3\\lib\\site-packages (from requests>=2.14.0->pygithub->getorg) (1.26.11)\n",
      "Requirement already satisfied: idna<4,>=2.5 in c:\\users\\aanair\\anaconda3\\lib\\site-packages (from requests>=2.14.0->pygithub->getorg) (3.3)\n",
      "Requirement already satisfied: charset-normalizer<3,>=2 in c:\\users\\aanair\\anaconda3\\lib\\site-packages (from requests>=2.14.0->pygithub->getorg) (2.0.4)\n",
      "Requirement already satisfied: certifi>=2017.4.17 in c:\\users\\aanair\\anaconda3\\lib\\site-packages (from requests>=2.14.0->pygithub->getorg) (2022.9.14)\n",
      "Requirement already satisfied: wrapt<2,>=1.10 in c:\\users\\aanair\\anaconda3\\lib\\site-packages (from deprecated->pygithub->getorg) (1.14.1)\n",
      "Requirement already satisfied: pycparser in c:\\users\\aanair\\anaconda3\\lib\\site-packages (from cffi>=1.4.1->pynacl>=1.4.0->pygithub->getorg) (2.21)\n"
     ]
    }
   ],
   "source": [
    "!pip install getorg --upgrade\n",
    "import glob\n",
    "import getorg\n",
    "from geopy import Nominatim"
   ]
  },
  {
   "cell_type": "code",
   "execution_count": 25,
   "metadata": {},
   "outputs": [],
   "source": [
    "g = glob.glob(\"_talks/*.md\")"
   ]
  },
  {
   "cell_type": "code",
   "execution_count": 26,
   "metadata": {},
   "outputs": [],
   "source": [
    "geocoder = Nominatim(user_agent=\"mappertalk\")\n",
    "location_dict = {}\n",
    "location = \"\"\n",
    "permalink = \"\"\n",
    "title = \"\""
   ]
  },
  {
   "cell_type": "code",
   "execution_count": 30,
   "metadata": {},
   "outputs": [
    {
     "name": "stdout",
     "output_type": "stream",
     "text": [
      " Harvard University, Boston, MA,  \n",
      " Harvard University, Soldiers Field Road, Allston, Boston, Suffolk County, Massachusetts, 02163, United States\n",
      " Raleigh, NC,  \n",
      " Raleigh, Wake County, North Carolina, United States\n",
      " Washington, DC,  \n",
      " Washington, District of Columbia, United States\n",
      " Albany, NY,  \n",
      " City of Albany, Albany County, New York, United States\n",
      " Harvard University, Boston, MA,  \n",
      " Harvard University, Soldiers Field Road, Allston, Boston, Suffolk County, Massachusetts, 02163, United States\n",
      " Portland, OR,  \n",
      " Portland, Multnomah County, Oregon, United States\n",
      " Portland, OR,  \n",
      " Portland, Multnomah County, Oregon, United States\n",
      " Boston, MA,  \n",
      " Boston, Suffolk County, Massachusetts, United States\n",
      " Albany, NY,  \n",
      " City of Albany, Albany County, New York, United States\n",
      " Albany, NY,  \n",
      " City of Albany, Albany County, New York, United States\n",
      " Albany, NY,  \n",
      " City of Albany, Albany County, New York, United States\n",
      " Albany, NY,  \n",
      " City of Albany, Albany County, New York, United States\n",
      " Albany, NY,  \n",
      " City of Albany, Albany County, New York, United States\n",
      " Albany, NY,  \n",
      " City of Albany, Albany County, New York, United States\n",
      " Washington University, St. Louis, MO,  \n",
      " Washington University, Institute for Public Health, 600, South Taylor Avenue, Central West End, Saint Louis, Missouri, 63110, United States\n",
      " Washington University, St. Louis, MO,  \n",
      " Washington University, Institute for Public Health, 600, South Taylor Avenue, Central West End, Saint Louis, Missouri, 63110, United States\n",
      " Washington University, St. Louis, MO,  \n",
      " Washington University, Institute for Public Health, 600, South Taylor Avenue, Central West End, Saint Louis, Missouri, 63110, United States\n",
      " Washington University, St. Louis, MO,  \n",
      " Washington University, Institute for Public Health, 600, South Taylor Avenue, Central West End, Saint Louis, Missouri, 63110, United States\n"
     ]
    }
   ],
   "source": [
    "\n",
    "for file in g:\n",
    "    with open(file, 'r') as f:\n",
    "        lines = f.read()\n",
    "        if lines.find('venue: ') > 1:\n",
    "            if lines.find('Virtual') < 1:\n",
    "                loc_start = lines.find(',') + 1\n",
    "                lines_trim = lines[loc_start:]\n",
    "                loc_end = lines_trim.find('USA')\n",
    "                location = lines_trim[:loc_end]\n",
    "                            \n",
    "           \n",
    "        location_dict[location] = geocoder.geocode(location)\n",
    "        print(location, \"\\n\", location_dict[location])\n"
   ]
  },
  {
   "cell_type": "code",
   "execution_count": 33,
   "metadata": {},
   "outputs": [
    {
     "data": {
      "text/plain": [
       "'Written map to ./talkmap/'"
      ]
     },
     "execution_count": 33,
     "metadata": {},
     "output_type": "execute_result"
    }
   ],
   "source": [
    "m = getorg.orgmap.create_map_obj()\n",
    "getorg.orgmap.output_html_cluster_map(location_dict, folder_name=\"./talkmap\", hashed_usernames=False)"
   ]
  },
  {
   "cell_type": "code",
   "execution_count": 32,
   "metadata": {},
   "outputs": [
    {
     "data": {
      "text/plain": [
       "'IPywidgets and ipyleaflet support disabled.'"
      ]
     },
     "execution_count": 32,
     "metadata": {},
     "output_type": "execute_result"
    }
   ],
   "source": [
    "m"
   ]
  },
  {
   "cell_type": "code",
   "execution_count": null,
   "metadata": {},
   "outputs": [],
   "source": []
  }
 ],
 "metadata": {
  "anaconda-cloud": {},
  "kernelspec": {
   "display_name": "Python 3 (ipykernel)",
   "language": "python",
   "name": "python3"
  },
  "language_info": {
   "codemirror_mode": {
    "name": "ipython",
    "version": 3
   },
   "file_extension": ".py",
   "mimetype": "text/x-python",
   "name": "python",
   "nbconvert_exporter": "python",
   "pygments_lexer": "ipython3",
   "version": "3.9.13"
  }
 },
 "nbformat": 4,
 "nbformat_minor": 1
}
